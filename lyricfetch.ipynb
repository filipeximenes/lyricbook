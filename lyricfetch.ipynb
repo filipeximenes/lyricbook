{
 "cells": [
  {
   "cell_type": "code",
   "execution_count": 1,
   "metadata": {},
   "outputs": [],
   "source": [
    "from bs4 import BeautifulSoup\n",
    "import requests"
   ]
  },
  {
   "cell_type": "code",
   "execution_count": 2,
   "metadata": {},
   "outputs": [],
   "source": [
    "url = \"https://www.letras.mus.br/adiel-luna/maria-fulo/\"\n",
    "url = \"https://www.letras.mus.br/adiel-luna/o-coco-vai-comecar-coco-camara/\"\n",
    "url = \"https://www.letras.mus.br/pandeiro-do-mestre/cobra-coral/\""
   ]
  },
  {
   "cell_type": "code",
   "execution_count": 3,
   "metadata": {},
   "outputs": [],
   "source": [
    "resp = requests.get(url)"
   ]
  },
  {
   "cell_type": "code",
   "execution_count": 4,
   "metadata": {},
   "outputs": [],
   "source": [
    "soup = BeautifulSoup(resp.content)"
   ]
  },
  {
   "cell_type": "code",
   "execution_count": 5,
   "metadata": {},
   "outputs": [],
   "source": [
    "article = soup.article"
   ]
  },
  {
   "cell_type": "code",
   "execution_count": 6,
   "metadata": {},
   "outputs": [],
   "source": [
    "song_name = article.h1.text.strip()"
   ]
  },
  {
   "cell_type": "code",
   "execution_count": 7,
   "metadata": {},
   "outputs": [],
   "source": [
    "artist = article.h2.text.strip()"
   ]
  },
  {
   "cell_type": "code",
   "execution_count": 8,
   "metadata": {},
   "outputs": [],
   "source": [
    "lyric_html = article.find_all(\"div\", {\"class\": \"cnt-letra-trad\"})[0]"
   ]
  },
  {
   "cell_type": "code",
   "execution_count": 9,
   "metadata": {},
   "outputs": [],
   "source": [
    "strophes_html = lyric_html.find_all('p')"
   ]
  },
  {
   "cell_type": "code",
   "execution_count": 10,
   "metadata": {},
   "outputs": [],
   "source": [
    "lyric = []"
   ]
  },
  {
   "cell_type": "code",
   "execution_count": 11,
   "metadata": {},
   "outputs": [],
   "source": [
    "for strophe in strophes_html:\n",
    "    verses = strophe.get_text(separator='|||').split('|||')\n",
    "    lyric.append(verses)"
   ]
  },
  {
   "cell_type": "code",
   "execution_count": 13,
   "metadata": {},
   "outputs": [
    {
     "name": "stdout",
     "output_type": "stream",
     "text": [
      "Cobra Coral\n",
      "Pandeiro do Mestre\n",
      "[['Eu plantei a minha emoção no meio do campo de jogo', 'Nasceu um capim de fogo, reino da cobra coral'], ['Qualquer animal que cair lá no arruda', 'Vai ser um Deus nos acuda', 'Sua picada é fatal'], ['Tricolor (santa cruz cobra coral)', 'Tri-tricolor (santa cruz cobra coral)'], ['Galo, porco, urubu, raposa, peixe, gavião', 'Águia, boi, timbu, leão, macaco, lobo, pardal'], ['Qualquer animal que cair lá no arruda', 'Vai ser um Deus nos acuda', 'Sua picada é fatal'], ['Demarcou com cal, botou trave, pediu bola', 'Que é pra ver como ela rola por dentro do seu quintal', 'Fundou a nal no pátio de santa cruz', 'E botou sorte no jogo uma luz']]\n"
     ]
    }
   ],
   "source": [
    "print(song_name)\n",
    "print(artist)\n",
    "print(lyric)"
   ]
  },
  {
   "cell_type": "code",
   "execution_count": 14,
   "metadata": {},
   "outputs": [
    {
     "name": "stdout",
     "output_type": "stream",
     "text": [
      "[NbConvertApp] Converting notebook lyricfetch.ipynb to script\n",
      "[NbConvertApp] Writing 875 bytes to lyricfetch.py\n"
     ]
    }
   ],
   "source": [
    "!jupyter nbconvert --to script lyricfetch.ipynb"
   ]
  },
  {
   "cell_type": "code",
   "execution_count": null,
   "metadata": {},
   "outputs": [],
   "source": []
  }
 ],
 "metadata": {
  "kernelspec": {
   "display_name": "Python 3",
   "language": "python",
   "name": "python3"
  },
  "language_info": {
   "codemirror_mode": {
    "name": "ipython",
    "version": 3
   },
   "file_extension": ".py",
   "mimetype": "text/x-python",
   "name": "python",
   "nbconvert_exporter": "python",
   "pygments_lexer": "ipython3",
   "version": "3.6.9"
  }
 },
 "nbformat": 4,
 "nbformat_minor": 4
}
